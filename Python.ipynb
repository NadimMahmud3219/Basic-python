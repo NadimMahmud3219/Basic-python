{
  "cells": [
    {
      "cell_type": "code",
      "execution_count": null,
      "metadata": {
        "colab": {
          "base_uri": "https://localhost:8080/"
        },
        "id": "AyqNlgyMTlYZ",
        "outputId": "4a486624-ae80-469d-e84d-c28a35843546"
      },
      "outputs": [
        {
          "name": "stdout",
          "output_type": "stream",
          "text": [
            "Hello world\n"
          ]
        }
      ],
      "source": [
        "print(\"Hello world\")"
      ]
    },
    {
      "cell_type": "code",
      "execution_count": null,
      "metadata": {
        "colab": {
          "base_uri": "https://localhost:8080/"
        },
        "id": "kF3sWydoTz_T",
        "outputId": "3329f17d-d2b0-4817-991b-b11b4cc5a477"
      },
      "outputs": [
        {
          "name": "stdout",
          "output_type": "stream",
          "text": [
            "The sum of two number : 40\n"
          ]
        }
      ],
      "source": [
        "a = 10\n",
        "b = 30\n",
        "print(\"The sum of two number :\",a+b)"
      ]
    },
    {
      "cell_type": "code",
      "execution_count": null,
      "metadata": {
        "colab": {
          "base_uri": "https://localhost:8080/"
        },
        "id": "Xnw0kk7EULtv",
        "outputId": "e9a5039b-0f44-44c9-d8a0-5af0c04854bd"
      },
      "outputs": [
        {
          "name": "stdout",
          "output_type": "stream",
          "text": [
            "The subtraction of two number :  5\n"
          ]
        }
      ],
      "source": [
        "a = 10\n",
        "b = 5\n",
        "print('The subtraction of two number : ',a-b)"
      ]
    },
    {
      "cell_type": "code",
      "execution_count": null,
      "metadata": {
        "colab": {
          "base_uri": "https://localhost:8080/"
        },
        "id": "4XHof3-KUW9t",
        "outputId": "d6e55ecf-b48a-4fab-a24f-b582f7d6ccb6"
      },
      "outputs": [
        {
          "name": "stdout",
          "output_type": "stream",
          "text": [
            "The divition of two number :  5.0\n"
          ]
        }
      ],
      "source": [
        "a = 10\n",
        "b = 2\n",
        "print(\"The divition of two number : \",a/b)"
      ]
    },
    {
      "cell_type": "code",
      "execution_count": null,
      "metadata": {
        "colab": {
          "base_uri": "https://localhost:8080/"
        },
        "id": "s0qobcigUiUr",
        "outputId": "c944fa20-1ab6-40db-a27f-09773066e762"
      },
      "outputs": [
        {
          "name": "stdout",
          "output_type": "stream",
          "text": [
            "reminder:  1\n"
          ]
        }
      ],
      "source": [
        "a = 10\n",
        "b = 3\n",
        "print('reminder: ',a%b)"
      ]
    },
    {
      "cell_type": "code",
      "execution_count": null,
      "metadata": {
        "colab": {
          "base_uri": "https://localhost:8080/"
        },
        "id": "dD5pKbwbUqgR",
        "outputId": "9f2c501c-9661-46ae-e625-96865928b5f5"
      },
      "outputs": [
        {
          "name": "stdout",
          "output_type": "stream",
          "text": [
            "The multiplication of a & b is:  50\n"
          ]
        }
      ],
      "source": [
        "a = 10\n",
        "b = 5\n",
        "print(\"The multiplication of a & b is: \",a*b)"
      ]
    },
    {
      "cell_type": "code",
      "execution_count": null,
      "metadata": {
        "colab": {
          "base_uri": "https://localhost:8080/"
        },
        "id": "t-4j2r3NU__G",
        "outputId": "7e382013-d9e0-4a59-8027-3ecf5606dfa6"
      },
      "outputs": [
        {
          "name": "stdout",
          "output_type": "stream",
          "text": [
            "The square of a is :  100\n"
          ]
        }
      ],
      "source": [
        "a = 10\n",
        "print(\"The square of a is : \",a*a)"
      ]
    },
    {
      "cell_type": "markdown",
      "metadata": {
        "id": "a4Wk7ph0bPtC"
      },
      "source": [
        "# String"
      ]
    },
    {
      "cell_type": "code",
      "execution_count": null,
      "metadata": {
        "colab": {
          "base_uri": "https://localhost:8080/"
        },
        "id": "W1lkMw7wbSaX",
        "outputId": "15b8d7fb-41fb-49fc-df6f-94b10b0bb41d"
      },
      "outputs": [
        {
          "name": "stdout",
          "output_type": "stream",
          "text": [
            "Hello! my name is Mahmud\n",
            "\n"
          ]
        }
      ],
      "source": [
        "a = \"Hello! my name is Mahmud\\n\"\n",
        "print(a)"
      ]
    },
    {
      "cell_type": "code",
      "execution_count": null,
      "metadata": {
        "colab": {
          "base_uri": "https://localhost:8080/"
        },
        "id": "9M90Sel2bawW",
        "outputId": "5d83783d-0928-41e6-aaf7-c243bf83bd83"
      },
      "outputs": [
        {
          "name": "stdout",
          "output_type": "stream",
          "text": [
            "25\n"
          ]
        }
      ],
      "source": [
        "print(len(a))"
      ]
    },
    {
      "cell_type": "code",
      "execution_count": null,
      "metadata": {
        "colab": {
          "base_uri": "https://localhost:8080/"
        },
        "id": "ifSFnMW0benW",
        "outputId": "e5876e55-e18b-4a8e-ec3c-ffa0ddff44ae"
      },
      "outputs": [
        {
          "name": "stdout",
          "output_type": "stream",
          "text": [
            "<class 'str'>\n"
          ]
        }
      ],
      "source": [
        "print(type(a))"
      ]
    },
    {
      "cell_type": "code",
      "execution_count": null,
      "metadata": {
        "colab": {
          "base_uri": "https://localhost:8080/"
        },
        "id": "-A-RZAWWbrrJ",
        "outputId": "f859618a-1d0d-4407-fd46-645b332ac13b"
      },
      "outputs": [
        {
          "name": "stdout",
          "output_type": "stream",
          "text": [
            "Hello! my name is Mahmud\n",
            "I'm from Rajshahi \n",
            "\n"
          ]
        }
      ],
      "source": [
        "b = \"I'm from Rajshahi\"\n",
        "print(a+b,'\\n')"
      ]
    },
    {
      "cell_type": "code",
      "execution_count": null,
      "metadata": {
        "colab": {
          "base_uri": "https://localhost:8080/"
        },
        "id": "Ye6jGsAKbrlP",
        "outputId": "d2464279-4fd3-4cb5-cf16-422dbecda7f2"
      },
      "outputs": [
        {
          "name": "stdout",
          "output_type": "stream",
          "text": [
            "I'm from \n"
          ]
        }
      ],
      "source": [
        "print(b[0:9])"
      ]
    },
    {
      "cell_type": "code",
      "execution_count": null,
      "metadata": {
        "colab": {
          "base_uri": "https://localhost:8080/"
        },
        "id": "_I6srng5crVj",
        "outputId": "1d97793d-b9cc-41ba-fb42-86d64a8bb35b"
      },
      "outputs": [
        {
          "name": "stdout",
          "output_type": "stream",
          "text": [
            "\n"
          ]
        }
      ],
      "source": [
        "print(b[-1:0])"
      ]
    },
    {
      "cell_type": "code",
      "execution_count": null,
      "metadata": {
        "colab": {
          "base_uri": "https://localhost:8080/"
        },
        "id": "YUs-zjwnVmZF",
        "outputId": "321da0dc-20bc-4a23-c614-fc278dae1ecb"
      },
      "outputs": [
        {
          "name": "stdout",
          "output_type": "stream",
          "text": [
            "['Dhaka', 'Rajshahui', 'Khulna', 'Chattogram', 'Sylhet']\n"
          ]
        }
      ],
      "source": [
        " a = [\"Dhaka\",\"Rajshahui\",\"Khulna\",\"Chattogram\",\"Sylhet\"]\n",
        " print(a)"
      ]
    },
    {
      "cell_type": "code",
      "execution_count": null,
      "metadata": {
        "colab": {
          "base_uri": "https://localhost:8080/"
        },
        "id": "gKdY9-C9V5TH",
        "outputId": "902524de-7299-45d5-aee4-7da7f2197bd0"
      },
      "outputs": [
        {
          "name": "stdout",
          "output_type": "stream",
          "text": [
            "Dhaka\n"
          ]
        }
      ],
      "source": [
        "print(a[0])"
      ]
    },
    {
      "cell_type": "code",
      "execution_count": null,
      "metadata": {
        "colab": {
          "base_uri": "https://localhost:8080/"
        },
        "id": "Kx1uIgfZV-xf",
        "outputId": "885b2420-4e2f-4bb3-a09c-7396a408a808"
      },
      "outputs": [
        {
          "name": "stdout",
          "output_type": "stream",
          "text": [
            "['Dhaka', 'Rajshahui', 'Khulna']\n"
          ]
        }
      ],
      "source": [
        "print(a[0:3])"
      ]
    },
    {
      "cell_type": "code",
      "execution_count": null,
      "metadata": {
        "colab": {
          "base_uri": "https://localhost:8080/"
        },
        "id": "3f4SWbN4WJgs",
        "outputId": "6552ce2c-dbe4-490e-dabd-cca03c785323"
      },
      "outputs": [
        {
          "name": "stdout",
          "output_type": "stream",
          "text": [
            "Sylhet\n"
          ]
        }
      ],
      "source": [
        "print(a[-1])"
      ]
    },
    {
      "cell_type": "code",
      "execution_count": null,
      "metadata": {
        "colab": {
          "base_uri": "https://localhost:8080/"
        },
        "id": "jPCtGk-mWg7e",
        "outputId": "d266c89f-4eb0-476d-995a-cc2629a399d1"
      },
      "outputs": [
        {
          "name": "stdout",
          "output_type": "stream",
          "text": [
            "['Sylhet', 'Chattogram', 'Khulna', 'Rajshahui', 'Dhaka']\n"
          ]
        }
      ],
      "source": [
        "rev = a.reverse()\n",
        "print(a)"
      ]
    },
    {
      "cell_type": "code",
      "execution_count": null,
      "metadata": {
        "colab": {
          "base_uri": "https://localhost:8080/"
        },
        "id": "FVmTl2fmXbYn",
        "outputId": "e9d9d67a-1f0d-4660-87e9-c91785cd10f7"
      },
      "outputs": [
        {
          "name": "stdout",
          "output_type": "stream",
          "text": [
            "['Sylhet', 'Chattogram', 'Khulna', 'Rajshahui', 'Dhaka', 'London']\n"
          ]
        }
      ],
      "source": [
        "a.append(\"London\")\n",
        "print(a)"
      ]
    },
    {
      "cell_type": "code",
      "execution_count": null,
      "metadata": {
        "colab": {
          "base_uri": "https://localhost:8080/"
        },
        "id": "ZNskmMhaXltP",
        "outputId": "4992654a-c02d-45b6-e3f4-456c41124aee"
      },
      "outputs": [
        {
          "name": "stdout",
          "output_type": "stream",
          "text": [
            "['Sylhet', 'Chattogram', 'Khulna', 'Rajshahui', 'Dhaka']\n"
          ]
        }
      ],
      "source": [
        "a.remove(\"London\")\n",
        "print(a)"
      ]
    },
    {
      "cell_type": "code",
      "execution_count": null,
      "metadata": {
        "colab": {
          "base_uri": "https://localhost:8080/"
        },
        "id": "63WI2SjhXwtc",
        "outputId": "4063c1e1-9b23-45e1-ae28-8fa26d2321ae"
      },
      "outputs": [
        {
          "data": {
            "text/plain": [
              "False"
            ]
          },
          "execution_count": 41,
          "metadata": {},
          "output_type": "execute_result"
        }
      ],
      "source": [
        "'London' in a\n"
      ]
    },
    {
      "cell_type": "code",
      "execution_count": null,
      "metadata": {
        "colab": {
          "base_uri": "https://localhost:8080/"
        },
        "id": "b9_ki1AnYD7x",
        "outputId": "73f3fcd9-3690-433e-865a-d5f5a3c7398d"
      },
      "outputs": [
        {
          "data": {
            "text/plain": [
              "True"
            ]
          },
          "execution_count": 37,
          "metadata": {},
          "output_type": "execute_result"
        }
      ],
      "source": [
        "'Dhaka' in a"
      ]
    },
    {
      "cell_type": "code",
      "execution_count": null,
      "metadata": {
        "colab": {
          "base_uri": "https://localhost:8080/"
        },
        "id": "WVn_I3vzYI_h",
        "outputId": "27464a8a-995e-46e4-cd10-5ecad0433e23"
      },
      "outputs": [
        {
          "name": "stdout",
          "output_type": "stream",
          "text": [
            "['Sylhet', 'Chattogram', 'Rajshahui', 'Dhaka', 'Barlin', 'London', 'Barlin', 'Denvor']\n"
          ]
        }
      ],
      "source": [
        "b = ['London','Barlin','Denvor']\n",
        "print(a+b)"
      ]
    },
    {
      "cell_type": "markdown",
      "metadata": {
        "id": "EntCX1vcYsV9"
      },
      "source": [
        "# Conditional statement "
      ]
    },
    {
      "cell_type": "code",
      "execution_count": null,
      "metadata": {
        "colab": {
          "base_uri": "https://localhost:8080/"
        },
        "id": "8BJgUlW0Y1bC",
        "outputId": "0e1d029c-3b94-4a3e-bc66-de30041852de"
      },
      "outputs": [
        {
          "name": "stdout",
          "output_type": "stream",
          "text": [
            "Enter 1st integer number: 10\n",
            "Enter 2nd integer number: 20\n",
            "The big number is :  20\n"
          ]
        }
      ],
      "source": [
        "a = input(\"Enter 1st integer number: \")\n",
        "b = input(\"Enter 2nd integer number: \")\n",
        "if a>b:\n",
        "  print('The Big number is : ',a)\n",
        "else:\n",
        "  print(\"The big number is : \",b)"
      ]
    },
    {
      "cell_type": "code",
      "execution_count": null,
      "metadata": {
        "colab": {
          "base_uri": "https://localhost:8080/"
        },
        "id": "eTtHf08gZ2zX",
        "outputId": "b4e5ad5a-19aa-45b2-8779-45f2a09f43db"
      },
      "outputs": [
        {
          "name": "stdout",
          "output_type": "stream",
          "text": [
            "enter 1st integer number : 10\n",
            "enter 2nd integer number : 20\n",
            "enter 3rd integer number : 30\n",
            "The big number is :  30\n"
          ]
        }
      ],
      "source": [
        "a = int(input(\"enter 1st integer number : \"))\n",
        "b = int(input(\"enter 2nd integer number : \"))\n",
        "c = int(input(\"enter 3rd integer number : \"))\n",
        "if a>b & a>c:\n",
        "  print(\"The big number is :\",a)\n",
        "elif b>a & b>c:\n",
        "  print(\"The big number is : \",b)\n",
        "else:\n",
        "  print(\"The big number is : \", c)"
      ]
    },
    {
      "cell_type": "markdown",
      "metadata": {
        "id": "greKU9h7dDt2"
      },
      "source": [
        "# LOOP"
      ]
    },
    {
      "cell_type": "code",
      "execution_count": null,
      "metadata": {
        "colab": {
          "base_uri": "https://localhost:8080/"
        },
        "id": "eTfQuW6kdFvc",
        "outputId": "16b10535-8202-413c-89ae-983671f517ff"
      },
      "outputs": [
        {
          "name": "stdout",
          "output_type": "stream",
          "text": [
            "0\n",
            "1\n",
            "2\n",
            "3\n",
            "4\n",
            "5\n",
            "6\n",
            "7\n",
            "8\n",
            "9\n",
            "10\n"
          ]
        }
      ],
      "source": [
        "for i in range(0,11):\n",
        "  print(i)"
      ]
    },
    {
      "cell_type": "code",
      "execution_count": null,
      "metadata": {
        "colab": {
          "base_uri": "https://localhost:8080/"
        },
        "id": "tQ4lAxxcdU7c",
        "outputId": "33b6da1c-0a75-4528-9a34-0263c54a7466"
      },
      "outputs": [
        {
          "name": "stdout",
          "output_type": "stream",
          "text": [
            "2\n",
            "4\n",
            "6\n",
            "8\n",
            "10\n",
            "12\n",
            "14\n",
            "16\n",
            "18\n",
            "20\n"
          ]
        }
      ],
      "source": [
        "for i in range(1,11):\n",
        "  print(i+i)"
      ]
    },
    {
      "cell_type": "code",
      "execution_count": null,
      "metadata": {
        "colab": {
          "base_uri": "https://localhost:8080/"
        },
        "id": "dhJoG4j8eBnS",
        "outputId": "5ec042d1-303c-4f9a-d9c6-982d95f0ae45"
      },
      "outputs": [
        {
          "name": "stdout",
          "output_type": "stream",
          "text": [
            "1\n",
            "4\n",
            "9\n",
            "16\n",
            "25\n",
            "36\n",
            "49\n",
            "64\n",
            "81\n",
            "100\n"
          ]
        }
      ],
      "source": [
        "for i in range(1,11):\n",
        "  print(i*i)"
      ]
    },
    {
      "cell_type": "code",
      "execution_count": null,
      "metadata": {
        "colab": {
          "base_uri": "https://localhost:8080/"
        },
        "id": "c6p-U_mig6Jz",
        "outputId": "49cf9d8c-eda8-4975-89b2-3c020d3b3af7"
      },
      "outputs": [
        {
          "name": "stdout",
          "output_type": "stream",
          "text": [
            "Total =  55\n"
          ]
        }
      ],
      "source": [
        "total = 0\n",
        "for i in range(0,11):\n",
        "  total = total+i\n",
        "print(\"Total = \",total)"
      ]
    },
    {
      "cell_type": "code",
      "execution_count": null,
      "metadata": {
        "colab": {
          "base_uri": "https://localhost:8080/"
        },
        "id": "alhFQ23EeUwh",
        "outputId": "cacd6ed1-432c-4b61-b801-9abef39215f8"
      },
      "outputs": [
        {
          "name": "stdout",
          "output_type": "stream",
          "text": [
            "Month 1 Expance =  2000\n",
            "Month 2 Expance =  2050\n",
            "Month 3 Expance =  3000\n",
            "Month 4 Expance =  2500\n"
          ]
        }
      ],
      "source": [
        "exp = [\"2000\",\"2050\",\"3000\",\"2500\"]\n",
        "for i in range(len(exp)):\n",
        "  print(\"Month\",i+1, 'Expance = ',exp[i])"
      ]
    },
    {
      "cell_type": "code",
      "execution_count": null,
      "metadata": {
        "colab": {
          "base_uri": "https://localhost:8080/"
        },
        "id": "ihdSGWsWgD_F",
        "outputId": "1435dbe1-dc76-44f0-daf8-218af55a8e21"
      },
      "outputs": [
        {
          "name": "stdout",
          "output_type": "stream",
          "text": [
            "Key is not found in  Chair\n",
            "Key is not found in  Bedroom\n",
            "Key is found in  Table\n"
          ]
        }
      ],
      "source": [
        "key_location = \"Table\"\n",
        "locations = [\"Chair\",\"Bedroom\",\"Table\",\"Rack\"]\n",
        "for i in locations:\n",
        "  if i == key_location:\n",
        "    print(\"Key is found in \",i)\n",
        "    break\n",
        "  else:\n",
        "    print('Key is not found in ',i)"
      ]
    },
    {
      "cell_type": "markdown",
      "metadata": {
        "id": "7D9d6ZS5kHrt"
      },
      "source": [
        "# Function"
      ]
    },
    {
      "cell_type": "code",
      "source": [
        "def add(a,b):\n",
        "  return a+b #return the value of addition \n",
        "\n",
        "def sub(a,b):\n",
        "  print(\"The subtraction of this two number is: \",a-b) #printing the value of subtraction \n",
        "\n",
        "number = add(10,20) #call the function and pass the value \n",
        "number2 = sub(20,10) #call the function and pass the value \n",
        "print(\"the additon of this two number is: \", number)\n",
        "\n"
      ],
      "metadata": {
        "colab": {
          "base_uri": "https://localhost:8080/"
        },
        "id": "Et65nobgsVj6",
        "outputId": "c080ff30-6c27-4dcc-fd75-37f9d22be19b"
      },
      "execution_count": null,
      "outputs": [
        {
          "output_type": "stream",
          "name": "stdout",
          "text": [
            "The subtraction of this two number is:  10\n",
            "the additon of this two number is:  30\n"
          ]
        }
      ]
    },
    {
      "cell_type": "code",
      "execution_count": null,
      "metadata": {
        "colab": {
          "base_uri": "https://localhost:8080/"
        },
        "id": "guASBQrbkN3V",
        "outputId": "1e0101b6-1f5e-423c-d6ca-905a63d96061"
      },
      "outputs": [
        {
          "name": "stdout",
          "output_type": "stream",
          "text": [
            "Selim's total expance is : 10500\n",
            "Jewel's total expance is : 5900\n"
          ]
        }
      ],
      "source": [
        "Selim_exp_list = [2000,3000,3000,2500]\n",
        "Jewel_exp_list = [1400,1000,2000,1500]\n",
        "total = 0\n",
        "for item in Selim_exp_list:\n",
        "  total = total+item\n",
        "print(\"Selim's total expance is :\",total)\n",
        "\n",
        "total = 0\n",
        "for item in Jewel_exp_list:\n",
        "  total = total+item\n",
        "print(\"Jewel's total expance is :\",total)\n",
        "\n",
        "#If there is a thousand of list then what should we do, then come out the function lets have a look;\n"
      ]
    },
    {
      "cell_type": "code",
      "execution_count": null,
      "metadata": {
        "colab": {
          "base_uri": "https://localhost:8080/"
        },
        "id": "kCx-cZhwlHXN",
        "outputId": "4c4a4b98-c766-401c-b9b0-629fe84f20aa"
      },
      "outputs": [
        {
          "name": "stdout",
          "output_type": "stream",
          "text": [
            "Selim's total expence is :  10500\n",
            "Jewel's total expence is :  5900\n",
            "Sumon's total expence is :  6700\n"
          ]
        }
      ],
      "source": [
        "def exp_calculate(exp):\n",
        "  total = 0\n",
        "  for item in exp:\n",
        "    total = total+item\n",
        "  return total\n",
        "\n",
        "\n",
        "\n",
        "Selim_exp_list = [2000,3000,3000,2500]\n",
        "Jewel_exp_list = [1400,1000,2000,1500]\n",
        "Sumon_exp_list = [2000,1000,1200,2500]\n",
        "\n",
        "Selim = exp_calculate(Selim_exp_list)\n",
        "Jewel = exp_calculate(Jewel_exp_list)\n",
        "Sumon = exp_calculate(Sumon_exp_list)\n",
        "\n",
        "print(\"Selim's total expence is : \",Selim)\n",
        "print(\"Jewel's total expence is : \",Jewel)\n",
        "print(\"Sumon's total expence is : \",Sumon)\n",
        "\n"
      ]
    },
    {
      "cell_type": "markdown",
      "metadata": {
        "id": "LQza-6lESQ_k"
      },
      "source": [
        "# OOP"
      ]
    },
    {
      "cell_type": "code",
      "execution_count": null,
      "metadata": {
        "colab": {
          "base_uri": "https://localhost:8080/"
        },
        "id": "JkMfxGILVHOd",
        "outputId": "1b6b3ca0-4311-4495-c443-00b1b094429a"
      },
      "outputs": [
        {
          "name": "stdout",
          "output_type": "stream",
          "text": [
            "Mahmud\n",
            "Robit\n"
          ]
        }
      ],
      "source": [
        "#class and object\n",
        "class person:\n",
        "    def __init__(self,name):\n",
        "        self.name=name\n",
        "        print(name)\n",
        "\n",
        "        \n",
        "a = person(\"Mahmud\")\n",
        "b = person(\"Robit\")\n"
      ]
    },
    {
      "cell_type": "code",
      "execution_count": null,
      "metadata": {
        "colab": {
          "base_uri": "https://localhost:8080/"
        },
        "id": "cr-V5y3ySY9s",
        "outputId": "0e04c1c3-e516-407e-b92b-3ab9ee01728e"
      },
      "outputs": [
        {
          "name": "stdout",
          "output_type": "stream",
          "text": [
            "Mahmud\n",
            "Mahmud\n"
          ]
        }
      ],
      "source": [
        "\n",
        "class person:\n",
        "    def __init__(self,name):\n",
        "        self.name=name\n",
        "    def get_name(self):\n",
        "        return self.name\n",
        "        \n",
        "a = person(\"Mahmud\")\n",
        "b = person(\"Robot\")\n",
        "print(a.get_name())\n",
        "print(a.get_name())"
      ]
    },
    {
      "cell_type": "code",
      "execution_count": null,
      "metadata": {
        "colab": {
          "base_uri": "https://localhost:8080/"
        },
        "id": "bATSMzWyYB-u",
        "outputId": "4830883e-aa35-4b6d-c214-2cb109e7d721"
      },
      "outputs": [
        {
          "name": "stdout",
          "output_type": "stream",
          "text": [
            "Name: Dog  Color: Black  Height: 3 feet\n",
            "Name: Cat  Color: White  Height: 1 feet\n"
          ]
        }
      ],
      "source": [
        "class animal:\n",
        "  def __init__(self,Name,Color,Height):\n",
        "    self.Name = Name\n",
        "    self.Color = Color\n",
        "    self.Height = Height\n",
        "    print(\"Name:\",Name, \" Color:\",Color, \" Height:\",Height)\n",
        "\n",
        "animal_1 = animal(\"Dog\",\"Black\",\"3 feet\")\n",
        "animal_2 = animal(\"Cat\",\"White\",\"1 feet\")"
      ]
    },
    {
      "cell_type": "code",
      "execution_count": null,
      "metadata": {
        "colab": {
          "base_uri": "https://localhost:8080/"
        },
        "id": "UIcgw-ZxY-Hv",
        "outputId": "7131e085-3367-4f38-bd57-833ced6b1b5d"
      },
      "outputs": [
        {
          "name": "stdout",
          "output_type": "stream",
          "text": [
            "Name: Dog, Color = Black, Height: 3 feet\n",
            "Name: Cat, Color = White, Height: 1 feet\n"
          ]
        }
      ],
      "source": [
        "class animal:\n",
        "  def __init__(self,Name,Color,Height):\n",
        "    self.Name = Name\n",
        "    self.Color = Color\n",
        "    self.Height = Height\n",
        "    print(f\"Name: {self.Name}, Color = {self.Color}, Height: {self.Height}\")\n",
        "\n",
        "animal_1 = animal(\"Dog\",\"Black\",\"3 feet\")\n",
        "animal_2 = animal(\"Cat\",\"White\",\"1 feet\")"
      ]
    },
    {
      "cell_type": "code",
      "execution_count": null,
      "metadata": {
        "colab": {
          "base_uri": "https://localhost:8080/"
        },
        "id": "M7cT9RU7ZkAg",
        "outputId": "8d10d5d0-cd8c-4fd9-ba64-fd3a3d2f04f6"
      },
      "outputs": [
        {
          "name": "stdout",
          "output_type": "stream",
          "text": [
            "Name: Dog, Color = Black, Height: 3 feet\n",
            "Name: Cat, Color = White, Height: 1 feet\n"
          ]
        }
      ],
      "source": [
        "class animal:\n",
        "  def __init__(self,Name,Color,Height):\n",
        "    self.Name = Name\n",
        "    self.Color = Color\n",
        "    self.Height = Height\n",
        "  def get_summary(self):\n",
        "    return f\"Name: {self.Name}, Color = {self.Color}, Height: {self.Height}\"\n",
        "\n",
        "animal_1 = animal(\"Dog\",\"Black\",\"3 feet\")\n",
        "animal_2 = animal(\"Cat\",\"White\",\"1 feet\")\n",
        "print(animal_1.get_summary())\n",
        "print(animal_2.get_summary())"
      ]
    },
    {
      "cell_type": "code",
      "execution_count": null,
      "metadata": {
        "colab": {
          "base_uri": "https://localhost:8080/"
        },
        "id": "m1xblQNiacNl",
        "outputId": "5cf6b7e9-81a2-4339-cd95-2baddb0eb41c"
      },
      "outputs": [
        {
          "name": "stdout",
          "output_type": "stream",
          "text": [
            "Name: Dog, Color = Black, Height: 3 feet\n",
            "Name: Cat, Color = White, Height: 1 feet\n",
            "Black\n",
            "Name: Goat, Color = Black, Height: 3 feet\n"
          ]
        }
      ],
      "source": [
        "class animal:\n",
        "  def __init__(self,Name,Color,Height):\n",
        "    self.Name = Name\n",
        "    self.Color = Color\n",
        "    self.Height = Height\n",
        "\n",
        "    \n",
        "  def set_name(self,new_name):\n",
        "    self.Name = new_name\n",
        "\n",
        "  def get_summary(self):\n",
        "    return f\"Name: {self.Name}, Color = {self.Color}, Height: {self.Height}\"\n",
        "\n",
        "\n",
        "animal_1 = animal(\"Dog\",\"Black\",\"3 feet\")\n",
        "animal_2 = animal(\"Cat\",\"White\",\"1 feet\")\n",
        "print(animal_1.get_summary())\n",
        "print(animal_2.get_summary())\n",
        "print(animal_1.Color)\n",
        "animal_1.set_name(\"Goat\")\n",
        "print(animal_1.get_summary())"
      ]
    },
    {
      "cell_type": "code",
      "execution_count": null,
      "metadata": {
        "colab": {
          "base_uri": "https://localhost:8080/"
        },
        "id": "TtQVdmCkai4C",
        "outputId": "4f697e72-9683-4633-a30a-7b24de4b0cad"
      },
      "outputs": [
        {
          "name": "stdout",
          "output_type": "stream",
          "text": [
            "Name: Dog, Color = Black, Height: 3 feet\n",
            "Name: Cat, Color = White, Height: 1 feet\n",
            "Black\n",
            "Name: Goat, Color = Black, Height: 3 feet\n",
            "Sorry!! name can't be a number.\n",
            "Goat\n"
          ]
        }
      ],
      "source": [
        "class animal:\n",
        "  def __init__(self,Name,Color,Height):\n",
        "    self.Name = Name\n",
        "    self.Color = Color\n",
        "    self.Height = Height\n",
        "\n",
        "    \n",
        "  def set_name(self,new_name):\n",
        "    if(self.__check_name(new_name)):\n",
        "      print(\"Sorry!! name can't be a number.\")\n",
        "      return\n",
        "    self.Name = new_name\n",
        "\n",
        "  def __check_name(self,name):\n",
        "    return \"0\" in name\n",
        "\n",
        "  def get_summary(self):\n",
        "    return f\"Name: {self.Name}, Color = {self.Color}, Height: {self.Height}\"\n",
        "\n",
        "\n",
        "animal_1 = animal(\"Dog\",\"Black\",\"3 feet\")\n",
        "animal_2 = animal(\"Cat\",\"White\",\"1 feet\")\n",
        "print(animal_1.get_summary())\n",
        "print(animal_2.get_summary())\n",
        "print(animal_1.Color)\n",
        "animal_1.set_name(\"Goat\")\n",
        "print(animal_1.get_summary())\n",
        "animal_1.set_name(\"012344\")\n",
        "print(animal_1.Name)\n",
        "\n",
        "#When we use __ in our python code that's means this attribute or method is private we can't directly access it. \n",
        "#Mainly this is a data encapsulation "
      ]
    },
    {
      "cell_type": "code",
      "execution_count": null,
      "metadata": {
        "colab": {
          "base_uri": "https://localhost:8080/"
        },
        "id": "K83oJFROdlKw",
        "outputId": "44b3382a-adf7-42f8-a17c-ed95c6a0aafe"
      },
      "outputs": [
        {
          "name": "stdout",
          "output_type": "stream",
          "text": [
            "Name: Tom, Color = Black, Height: 25\n",
            "Name: Jack, Color = Black, Height: 24\n",
            "Name: Libby, Color = Black, Height: None\n"
          ]
        }
      ],
      "source": [
        "# we want to print those cats only whose color is  Black\n",
        "class animal:\n",
        "  def __init__(self,Name: str,Color: str,Height: int = None):\n",
        "    self.Name = Name\n",
        "    self.Color = Color\n",
        "    self.Height = Height\n",
        "\n",
        "    \n",
        "  def set_name(self,new_name):\n",
        "    if(self.__check_name(new_name)):\n",
        "      print(\"Sorry!! name can't be a number.\")\n",
        "      return\n",
        "    self.Name = new_name\n",
        "\n",
        "  def __check_name(self,name):\n",
        "    return \"0\" in name\n",
        "\n",
        "  def get_summary(self):\n",
        "    return f\"Name: {self.Name}, Color = {self.Color}, Height: {self.Height}\"\n",
        "\n",
        "cat_list =[animal(\"Tom\",\"Black\",25),\n",
        "           animal(\"Thomas\",\"White\"),\n",
        "           animal(\"Jack\",\"Black\",24),\n",
        "           animal(\"Libby\",\"Black\"),\n",
        "           animal(\"Charlie\",\"white\")]\n",
        "for cat in cat_list:\n",
        "  if cat.Color == \"Black\":\n",
        "    print(cat.get_summary())\n"
      ]
    },
    {
      "cell_type": "code",
      "execution_count": null,
      "metadata": {
        "colab": {
          "background_save": true,
          "base_uri": "https://localhost:8080/"
        },
        "id": "EfZMYmVbkpKq",
        "outputId": "74d858d6-6f8e-4985-cf78-7a71e35604fe"
      },
      "outputs": [
        {
          "name": "stdout",
          "output_type": "stream",
          "text": [
            "Name: Tom, date_of_birth: 1990, Height: 25\n",
            "Name: Thomas, date_of_birth: 1995, Height: None\n",
            "Name: Jack, date_of_birth: 1985, Height: 24\n",
            "Name: Libby, date_of_birth: 2000, Height: None\n",
            "Name: Mahmud, date_of_birth: 65, Height: 2000\n"
          ]
        }
      ],
      "source": [
        "#Inharitance \n",
        "class person:\n",
        "  def __init__(self,Name: str,DOB: str,Height: int = None):\n",
        "    self.Name = Name\n",
        "    self.DOB = DOB\n",
        "    self.Height = Height\n",
        "\n",
        "    \n",
        "  def set_name(self,new_name):\n",
        "    if(self.__check_name(new_name)):\n",
        "      print(\"Sorry!! name can't be a number.\")\n",
        "      return\n",
        "    self.Name = new_name\n",
        "\n",
        "  def __check_name(self,name):\n",
        "    return \"0\" in name\n",
        "\n",
        "  def get_summary(self):\n",
        "    return f\"Name: {self.Name}, date_of_birth: {self.DOB}, Height: {self.Height}\"\n",
        "\n",
        "\n",
        "class student(person):\n",
        "  def __init__(self, Name: str, DOB: str, Height: int, email, studentid):\n",
        "      super().__init__(Name, DOB, Height=Height)\n",
        "      self.email = email\n",
        "      self.studentid = studentid\n",
        "\n",
        "  def get_summary(self):\n",
        "      return super().get_summary()\n",
        "      return f\"Name: {self.Name}, date_of_birth: {self.DOB}, Height: {self.Height}, email: {self.email}, studentid: {self.studentid}\"\n",
        "\n",
        "\n",
        "\n",
        "person1 = person(\"Tom\",\"1990\",25)\n",
        "person2 = person(\"Thomas\",\"1995\")\n",
        "person3 = person(\"Jack\",\"1985\",24)\n",
        "person4 = person(\"Libby\",\"2000\")\n",
        "\n",
        "print(person1.get_summary())\n",
        "print(person2.get_summary())\n",
        "print(person3.get_summary())\n",
        "print(person4.get_summary())\n",
        "\n",
        "student = student(\"Mahmud\",65,\"2000\",\"a@gmail.com\",\"3219\")\n",
        "print(student.get_summary())\n",
        "\n",
        "\n",
        "\n",
        "\n",
        "\n",
        "\n",
        "\n"
      ]
    },
    {
      "cell_type": "code",
      "execution_count": null,
      "metadata": {
        "id": "b1SynVdtoPsa"
      },
      "outputs": [],
      "source": []
    }
  ],
  "metadata": {
    "colab": {
      "provenance": []
    },
    "kernelspec": {
      "display_name": "Python 3",
      "name": "python3"
    },
    "language_info": {
      "name": "python"
    }
  },
  "nbformat": 4,
  "nbformat_minor": 0
}